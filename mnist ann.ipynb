{
 "cells": [
  {
   "cell_type": "code",
   "execution_count": 1,
   "metadata": {
    "id": "XWVMdZReqyRS"
   },
   "outputs": [
    {
     "name": "stderr",
     "output_type": "stream",
     "text": [
      "2023-03-12 10:45:40.291895: I tensorflow/core/platform/cpu_feature_guard.cc:193] This TensorFlow binary is optimized with oneAPI Deep Neural Network Library (oneDNN) to use the following CPU instructions in performance-critical operations:  AVX2 FMA\n",
      "To enable them in other operations, rebuild TensorFlow with the appropriate compiler flags.\n",
      "2023-03-12 10:45:40.467466: W tensorflow/compiler/xla/stream_executor/platform/default/dso_loader.cc:64] Could not load dynamic library 'libcudart.so.11.0'; dlerror: libcudart.so.11.0: cannot open shared object file: No such file or directory\n",
      "2023-03-12 10:45:40.467492: I tensorflow/compiler/xla/stream_executor/cuda/cudart_stub.cc:29] Ignore above cudart dlerror if you do not have a GPU set up on your machine.\n",
      "2023-03-12 10:45:41.055291: W tensorflow/compiler/xla/stream_executor/platform/default/dso_loader.cc:64] Could not load dynamic library 'libnvinfer.so.7'; dlerror: libnvinfer.so.7: cannot open shared object file: No such file or directory\n",
      "2023-03-12 10:45:41.055333: W tensorflow/compiler/xla/stream_executor/platform/default/dso_loader.cc:64] Could not load dynamic library 'libnvinfer_plugin.so.7'; dlerror: libnvinfer_plugin.so.7: cannot open shared object file: No such file or directory\n",
      "2023-03-12 10:45:41.055338: W tensorflow/compiler/tf2tensorrt/utils/py_utils.cc:38] TF-TRT Warning: Cannot dlopen some TensorRT libraries. If you would like to use Nvidia GPU with TensorRT, please make sure the missing libraries mentioned above are installed properly.\n"
     ]
    }
   ],
   "source": [
    "import tensorflow as tf"
   ]
  },
  {
   "cell_type": "code",
   "execution_count": 2,
   "metadata": {
    "colab": {
     "base_uri": "https://localhost:8080/"
    },
    "id": "FmFRYeWAq5UV",
    "outputId": "18718cf9-20ec-4889-ff2e-688e456922fc"
   },
   "outputs": [
    {
     "name": "stdout",
     "output_type": "stream",
     "text": [
      "2.11.0\n"
     ]
    }
   ],
   "source": [
    "print(tf.__version__)"
   ]
  },
  {
   "cell_type": "code",
   "execution_count": 3,
   "metadata": {
    "id": "QvXn1THYtMG1"
   },
   "outputs": [],
   "source": [
    "import pandas as pd\n",
    "import numpy as np\n",
    "import matplotlib.pyplot as plt\n",
    "from tensorflow.keras.optimizers import Adam # - Work"
   ]
  },
  {
   "cell_type": "code",
   "execution_count": 4,
   "metadata": {
    "id": "XVWul4e4tZrw"
   },
   "outputs": [],
   "source": [
    "from tensorflow.keras.datasets import fashion_mnist "
   ]
  },
  {
   "cell_type": "code",
   "execution_count": 5,
   "metadata": {
    "id": "1W7zt170t_0o"
   },
   "outputs": [],
   "source": [
    "(x_train,y_train),(x_test,y_test) = fashion_mnist.load_data()"
   ]
  },
  {
   "cell_type": "code",
   "execution_count": 6,
   "metadata": {
    "colab": {
     "base_uri": "https://localhost:8080/"
    },
    "id": "D9O--60AxLKj",
    "outputId": "01741810-40c1-429e-84bc-d65d63d3e4c1"
   },
   "outputs": [
    {
     "data": {
      "text/plain": [
       "((60000, 28, 28), (10000, 28, 28))"
      ]
     },
     "execution_count": 6,
     "metadata": {},
     "output_type": "execute_result"
    }
   ],
   "source": [
    "x_train.shape,x_test.shape"
   ]
  },
  {
   "cell_type": "code",
   "execution_count": 7,
   "metadata": {
    "colab": {
     "base_uri": "https://localhost:8080/"
    },
    "id": "IBkyU1euxNrH",
    "outputId": "cea10019-76d0-43f4-fb46-697510030134"
   },
   "outputs": [
    {
     "data": {
      "text/plain": [
       "((60000,), (10000,))"
      ]
     },
     "execution_count": 7,
     "metadata": {},
     "output_type": "execute_result"
    }
   ],
   "source": [
    "y_train.shape,y_test.shape"
   ]
  },
  {
   "cell_type": "code",
   "execution_count": 8,
   "metadata": {
    "colab": {
     "base_uri": "https://localhost:8080/"
    },
    "id": "ln_PKyWMxjqK",
    "outputId": "83c0fdc9-e460-4b23-98fb-7be3d8c5f8a1"
   },
   "outputs": [
    {
     "data": {
      "text/plain": [
       "array([[[0, 0, 0, ..., 0, 0, 0],\n",
       "        [0, 0, 0, ..., 0, 0, 0],\n",
       "        [0, 0, 0, ..., 0, 0, 0],\n",
       "        ...,\n",
       "        [0, 0, 0, ..., 0, 0, 0],\n",
       "        [0, 0, 0, ..., 0, 0, 0],\n",
       "        [0, 0, 0, ..., 0, 0, 0]],\n",
       "\n",
       "       [[0, 0, 0, ..., 0, 0, 0],\n",
       "        [0, 0, 0, ..., 0, 0, 0],\n",
       "        [0, 0, 0, ..., 0, 0, 0],\n",
       "        ...,\n",
       "        [0, 0, 0, ..., 0, 0, 0],\n",
       "        [0, 0, 0, ..., 0, 0, 0],\n",
       "        [0, 0, 0, ..., 0, 0, 0]],\n",
       "\n",
       "       [[0, 0, 0, ..., 0, 0, 0],\n",
       "        [0, 0, 0, ..., 0, 0, 0],\n",
       "        [0, 0, 0, ..., 0, 0, 0],\n",
       "        ...,\n",
       "        [0, 0, 0, ..., 0, 0, 0],\n",
       "        [0, 0, 0, ..., 0, 0, 0],\n",
       "        [0, 0, 0, ..., 0, 0, 0]],\n",
       "\n",
       "       ...,\n",
       "\n",
       "       [[0, 0, 0, ..., 0, 0, 0],\n",
       "        [0, 0, 0, ..., 0, 0, 0],\n",
       "        [0, 0, 0, ..., 0, 0, 0],\n",
       "        ...,\n",
       "        [0, 0, 0, ..., 0, 0, 0],\n",
       "        [0, 0, 0, ..., 0, 0, 0],\n",
       "        [0, 0, 0, ..., 0, 0, 0]],\n",
       "\n",
       "       [[0, 0, 0, ..., 0, 0, 0],\n",
       "        [0, 0, 0, ..., 0, 0, 0],\n",
       "        [0, 0, 0, ..., 0, 0, 0],\n",
       "        ...,\n",
       "        [0, 0, 0, ..., 0, 0, 0],\n",
       "        [0, 0, 0, ..., 0, 0, 0],\n",
       "        [0, 0, 0, ..., 0, 0, 0]],\n",
       "\n",
       "       [[0, 0, 0, ..., 0, 0, 0],\n",
       "        [0, 0, 0, ..., 0, 0, 0],\n",
       "        [0, 0, 0, ..., 0, 0, 0],\n",
       "        ...,\n",
       "        [0, 0, 0, ..., 0, 0, 0],\n",
       "        [0, 0, 0, ..., 0, 0, 0],\n",
       "        [0, 0, 0, ..., 0, 0, 0]]], dtype=uint8)"
      ]
     },
     "execution_count": 8,
     "metadata": {},
     "output_type": "execute_result"
    }
   ],
   "source": [
    "x_train"
   ]
  },
  {
   "cell_type": "code",
   "execution_count": 9,
   "metadata": {
    "colab": {
     "base_uri": "https://localhost:8080/"
    },
    "id": "QPYka0dTxkng",
    "outputId": "aa4ef0b0-10d1-433e-bf73-964a3ce0af54"
   },
   "outputs": [
    {
     "name": "stdout",
     "output_type": "stream",
     "text": [
      "['0 Top/T-shirt', '1 Trouser', '2 Pullover', '3 Dress', '4 Coat', '5 Sandal', '6 Shirt', '7 Sneaker', '8 Bag', '9 Ankle boot']\n"
     ]
    }
   ],
   "source": [
    " class_names = ['0 Top/T-shirt','1 Trouser','2 Pullover','3 Dress','4 Coat','5 Sandal','6 Shirt' ,'7 Sneaker','8 Bag','9 Ankle boot']\n",
    " print(class_names)"
   ]
  },
  {
   "cell_type": "code",
   "execution_count": 10,
   "metadata": {
    "colab": {
     "base_uri": "https://localhost:8080/",
     "height": 282
    },
    "id": "RFWoit-ryV_M",
    "outputId": "45b9982d-9ebc-40d1-d261-482aadcc0e44"
   },
   "outputs": [
    {
     "data": {
      "text/plain": [
       "(<matplotlib.image.AxesImage at 0x7f45b93d5a80>, 0)"
      ]
     },
     "execution_count": 10,
     "metadata": {},
     "output_type": "execute_result"
    },
    {
     "data": {
      "image/png": "[encoded data removed]",
      "text/plain": [
       "<Figure size 640x480 with 1 Axes>"
      ]
     },
     "metadata": {},
     "output_type": "display_data"
    }
   ],
   "source": [
    "plt.figure()\n",
    "(plt.imshow(x_train[1]),y_train[1])"
   ]
  },
  {
   "cell_type": "code",
   "execution_count": 11,
   "metadata": {
    "id": "X6qwYLUe1wEq"
   },
   "outputs": [],
   "source": [
    "x_train = x_train/255.0\n",
    "x_test = x_test/255.0"
   ]
  },
  {
   "cell_type": "code",
   "execution_count": 12,
   "metadata": {
    "colab": {
     "base_uri": "https://localhost:8080/",
     "height": 286
    },
    "id": "cVtjrIjq2WFP",
    "outputId": "969b0f12-e500-460f-9828-117af5241020"
   },
   "outputs": [
    {
     "data": {
      "text/plain": [
       "<matplotlib.colorbar.Colorbar at 0x7f45b3e16920>"
      ]
     },
     "execution_count": 12,
     "metadata": {},
     "output_type": "execute_result"
    },
    {
     "data": {
      "image/png": "[encoded data removed]",
      "text/plain": [
       "<Figure size 640x480 with 2 Axes>"
      ]
     },
     "metadata": {},
     "output_type": "display_data"
    }
   ],
   "source": [
    "plt.figure()\n",
    "(plt.imshow(x_train[1]),y_train[1])\n",
    "plt.colorbar()"
   ]
  },
  {
   "cell_type": "code",
   "execution_count": 13,
   "metadata": {
    "id": "Ifx0Rox22k05"
   },
   "outputs": [],
   "source": [
    "x_train = x_train.reshape(-1,28*28)\n",
    "x_test = x_test.reshape(-1,28*28)"
   ]
  },
  {
   "cell_type": "code",
   "execution_count": 14,
   "metadata": {
    "colab": {
     "base_uri": "https://localhost:8080/"
    },
    "id": "hLAEGrbv4tBO",
    "outputId": "f604a2ba-d002-4609-881c-cdc30c50af5f"
   },
   "outputs": [
    {
     "data": {
      "text/plain": [
       "((60000, 784), (60000, 784))"
      ]
     },
     "execution_count": 14,
     "metadata": {},
     "output_type": "execute_result"
    }
   ],
   "source": [
    "x_train.shape,x_train.shape"
   ]
  },
  {
   "cell_type": "code",
   "execution_count": 15,
   "metadata": {
    "id": "wBwcUFSu4wBd"
   },
   "outputs": [
    {
     "name": "stderr",
     "output_type": "stream",
     "text": [
      "2023-03-12 10:45:42.755621: W tensorflow/compiler/xla/stream_executor/platform/default/dso_loader.cc:64] Could not load dynamic library 'libcuda.so.1'; dlerror: libcuda.so.1: cannot open shared object file: No such file or directory\n",
      "2023-03-12 10:45:42.755636: W tensorflow/compiler/xla/stream_executor/cuda/cuda_driver.cc:265] failed call to cuInit: UNKNOWN ERROR (303)\n",
      "2023-03-12 10:45:42.755650: I tensorflow/compiler/xla/stream_executor/cuda/cuda_diagnostics.cc:156] kernel driver does not appear to be running on this host (karthik-Dell-G15-5515): /proc/driver/nvidia/version does not exist\n",
      "2023-03-12 10:45:42.755803: I tensorflow/core/platform/cpu_feature_guard.cc:193] This TensorFlow binary is optimized with oneAPI Deep Neural Network Library (oneDNN) to use the following CPU instructions in performance-critical operations:  AVX2 FMA\n",
      "To enable them in other operations, rebuild TensorFlow with the appropriate compiler flags.\n"
     ]
    }
   ],
   "source": [
    "model = tf.keras.models.Sequential()"
   ]
  },
  {
   "cell_type": "code",
   "execution_count": 16,
   "metadata": {
    "id": "T0cljHlL6a5l"
   },
   "outputs": [],
   "source": [
    "model.add(tf.keras.layers.Dense(units = 128,activation='relu',input_shape = (784,)))"
   ]
  },
  {
   "cell_type": "code",
   "execution_count": 17,
   "metadata": {
    "id": "yo4y-wiw75Ye"
   },
   "outputs": [],
   "source": [
    "model.add(tf.keras.layers.Dropout(0.4))"
   ]
  },
  {
   "cell_type": "code",
   "execution_count": 18,
   "metadata": {
    "id": "RTu1ZEab85Pr"
   },
   "outputs": [],
   "source": [
    "model.add(tf.keras.layers.Dense(units = 10,activation='softmax'))"
   ]
  },
  {
   "cell_type": "code",
   "execution_count": 19,
   "metadata": {
    "id": "w_Hwa-z99S3L"
   },
   "outputs": [],
   "source": [
    "model.compile(optimizer=Adam(learning_rate = 0.001),loss='sparse_categorical_crossentropy',metrics = ['sparse_categorical_accuracy'])"
   ]
  },
  {
   "cell_type": "code",
   "execution_count": 20,
   "metadata": {
    "colab": {
     "base_uri": "https://localhost:8080/"
    },
    "id": "8gGVkojc_YXJ",
    "outputId": "83712bbb-4510-4796-a96e-11895bc24fb0"
   },
   "outputs": [
    {
     "name": "stdout",
     "output_type": "stream",
     "text": [
      "Model: \"sequential\"\n",
      "_________________________________________________________________\n",
      " Layer (type)                Output Shape              Param #   \n",
      "=================================================================\n",
      " dense (Dense)               (None, 128)               100480    \n",
      "                                                                 \n",
      " dropout (Dropout)           (None, 128)               0         \n",
      "                                                                 \n",
      " dense_1 (Dense)             (None, 10)                1290      \n",
      "                                                                 \n",
      "=================================================================\n",
      "Total params: 101,770\n",
      "Trainable params: 101,770\n",
      "Non-trainable params: 0\n",
      "_________________________________________________________________\n"
     ]
    }
   ],
   "source": [
    "model.summary()"
   ]
  },
  {
   "cell_type": "code",
   "execution_count": 21,
   "metadata": {
    "colab": {
     "base_uri": "https://localhost:8080/"
    },
    "id": "E3XSOnvaA2MY",
    "outputId": "28c8a1a6-a71d-4ccd-9241-dd26415b3671"
   },
   "outputs": [
    {
     "data": {
      "text/plain": [
       "((60000, 784), (60000,))"
      ]
     },
     "execution_count": 21,
     "metadata": {},
     "output_type": "execute_result"
    }
   ],
   "source": [
    "x_train.shape ,y_train.shape"
   ]
  },
  {
   "cell_type": "code",
   "execution_count": 22,
   "metadata": {
    "colab": {
     "base_uri": "https://localhost:8080/"
    },
    "id": "s43SWsIXAG20",
    "outputId": "c90d0032-bf92-4909-c6a6-a884f255d87f"
   },
   "outputs": [
    {
     "name": "stdout",
     "output_type": "stream",
     "text": [
      "Epoch 1/15\n",
      "1688/1688 [==============================] - 3s 1ms/step - loss: 0.5902 - sparse_categorical_accuracy: 0.7911 - val_loss: 0.4229 - val_sparse_categorical_accuracy: 0.8450\n",
      "Epoch 2/15\n",
      "1688/1688 [==============================] - 2s 1ms/step - loss: 0.4490 - sparse_categorical_accuracy: 0.8390 - val_loss: 0.3841 - val_sparse_categorical_accuracy: 0.8562\n",
      "Epoch 3/15\n",
      "1688/1688 [==============================] - 2s 1ms/step - loss: 0.4167 - sparse_categorical_accuracy: 0.8495 - val_loss: 0.3654 - val_sparse_categorical_accuracy: 0.8705\n",
      "Epoch 4/15\n",
      "1688/1688 [==============================] - 2s 1ms/step - loss: 0.3956 - sparse_categorical_accuracy: 0.8566 - val_loss: 0.3590 - val_sparse_categorical_accuracy: 0.8710\n",
      "Epoch 5/15\n",
      "1688/1688 [==============================] - 2s 1ms/step - loss: 0.3789 - sparse_categorical_accuracy: 0.8611 - val_loss: 0.3477 - val_sparse_categorical_accuracy: 0.8738\n",
      "Epoch 6/15\n",
      "1688/1688 [==============================] - 2s 1ms/step - loss: 0.3661 - sparse_categorical_accuracy: 0.8669 - val_loss: 0.3467 - val_sparse_categorical_accuracy: 0.8760\n",
      "Epoch 7/15\n",
      "1688/1688 [==============================] - 3s 2ms/step - loss: 0.3593 - sparse_categorical_accuracy: 0.8681 - val_loss: 0.3619 - val_sparse_categorical_accuracy: 0.8638\n",
      "Epoch 8/15\n",
      "1688/1688 [==============================] - 2s 1ms/step - loss: 0.3492 - sparse_categorical_accuracy: 0.8711 - val_loss: 0.3413 - val_sparse_categorical_accuracy: 0.8772\n",
      "Epoch 9/15\n",
      "1688/1688 [==============================] - 2s 1ms/step - loss: 0.3432 - sparse_categorical_accuracy: 0.8737 - val_loss: 0.3423 - val_sparse_categorical_accuracy: 0.8755\n",
      "Epoch 10/15\n",
      "1688/1688 [==============================] - 2s 1ms/step - loss: 0.3375 - sparse_categorical_accuracy: 0.8759 - val_loss: 0.3281 - val_sparse_categorical_accuracy: 0.8827\n",
      "Epoch 11/15\n",
      "1688/1688 [==============================] - 2s 1ms/step - loss: 0.3306 - sparse_categorical_accuracy: 0.8785 - val_loss: 0.3310 - val_sparse_categorical_accuracy: 0.8833\n",
      "Epoch 12/15\n",
      "1688/1688 [==============================] - 2s 1ms/step - loss: 0.3245 - sparse_categorical_accuracy: 0.8791 - val_loss: 0.3686 - val_sparse_categorical_accuracy: 0.8713\n",
      "Epoch 13/15\n",
      "1688/1688 [==============================] - 2s 1ms/step - loss: 0.3204 - sparse_categorical_accuracy: 0.8809 - val_loss: 0.3419 - val_sparse_categorical_accuracy: 0.8790\n",
      "Epoch 14/15\n",
      "1688/1688 [==============================] - 2s 1ms/step - loss: 0.3173 - sparse_categorical_accuracy: 0.8828 - val_loss: 0.3237 - val_sparse_categorical_accuracy: 0.8815\n",
      "Epoch 15/15\n",
      "1688/1688 [==============================] - 2s 1ms/step - loss: 0.3131 - sparse_categorical_accuracy: 0.8826 - val_loss: 0.3259 - val_sparse_categorical_accuracy: 0.8837\n"
     ]
    },
    {
     "data": {
      "text/plain": [
       "<keras.callbacks.History at 0x7f45b64cba90>"
      ]
     },
     "execution_count": 22,
     "metadata": {},
     "output_type": "execute_result"
    }
   ],
   "source": [
    "model.fit(x_train,y_train,validation_split = 0.1,epochs = 15 ,shuffle = True)"
   ]
  },
  {
   "cell_type": "code",
   "execution_count": 23,
   "metadata": {
    "colab": {
     "base_uri": "https://localhost:8080/"
    },
    "id": "SXiU5JT6AuF8",
    "outputId": "b9e2e409-8eec-46a5-aed2-93faa5d67a52"
   },
   "outputs": [
    {
     "name": "stdout",
     "output_type": "stream",
     "text": [
      "Model: \"sequential\"\n",
      "_________________________________________________________________\n",
      " Layer (type)                Output Shape              Param #   \n",
      "=================================================================\n",
      " dense (Dense)               (None, 128)               100480    \n",
      "                                                                 \n",
      " dropout (Dropout)           (None, 128)               0         \n",
      "                                                                 \n",
      " dense_1 (Dense)             (None, 10)                1290      \n",
      "                                                                 \n",
      "=================================================================\n",
      "Total params: 101,770\n",
      "Trainable params: 101,770\n",
      "Non-trainable params: 0\n",
      "_________________________________________________________________\n"
     ]
    }
   ],
   "source": [
    "model.summary()"
   ]
  },
  {
   "cell_type": "code",
   "execution_count": 24,
   "metadata": {
    "colab": {
     "base_uri": "https://localhost:8080/"
    },
    "id": "32IERrqFBo4K",
    "outputId": "9858ce2b-6d31-42fa-d9df-06d9a7d057d0"
   },
   "outputs": [
    {
     "name": "stdout",
     "output_type": "stream",
     "text": [
      "313/313 [==============================] - 0s 729us/step - loss: 0.3434 - sparse_categorical_accuracy: 0.8793\n"
     ]
    }
   ],
   "source": [
    "test_loss,test_accuracy = model.evaluate(x_test,y_test)\n"
   ]
  },
  {
   "cell_type": "code",
   "execution_count": 25,
   "metadata": {
    "colab": {
     "base_uri": "https://localhost:8080/"
    },
    "id": "6igWMCaSDtpr",
    "outputId": "02e05a6b-6a17-468d-9679-4eae61034ef2"
   },
   "outputs": [
    {
     "data": {
      "text/plain": [
       "0.8792999982833862"
      ]
     },
     "execution_count": 25,
     "metadata": {},
     "output_type": "execute_result"
    }
   ],
   "source": [
    "test_accuracy"
   ]
  },
  {
   "cell_type": "code",
   "execution_count": 26,
   "metadata": {
    "colab": {
     "base_uri": "https://localhost:8080/"
    },
    "id": "NM9z1SDIEGBw",
    "outputId": "31db09a8-823d-45af-8d56-3be40ed46beb"
   },
   "outputs": [
    {
     "name": "stdout",
     "output_type": "stream",
     "text": [
      "313/313 [==============================] - 0s 703us/step\n"
     ]
    }
   ],
   "source": [
    "y_pred = model.predict(x_test)\n",
    "classes=np.argmax(y_pred,axis=1)"
   ]
  },
  {
   "cell_type": "code",
   "execution_count": 27,
   "metadata": {
    "colab": {
     "base_uri": "https://localhost:8080/"
    },
    "id": "VcI6Zdg-EOZR",
    "outputId": "bcdeacb5-6ff9-4afa-854c-0d621964a86a"
   },
   "outputs": [
    {
     "data": {
      "text/plain": [
       "array([9, 2, 1, ..., 8, 1, 5])"
      ]
     },
     "execution_count": 27,
     "metadata": {},
     "output_type": "execute_result"
    }
   ],
   "source": [
    "classes"
   ]
  },
  {
   "cell_type": "code",
   "execution_count": 28,
   "metadata": {
    "id": "QfvvguGXEp3j"
   },
   "outputs": [],
   "source": [
    "from sklearn.metrics import confusion_matrix,accuracy_score"
   ]
  },
  {
   "cell_type": "code",
   "execution_count": 29,
   "metadata": {
    "colab": {
     "base_uri": "https://localhost:8080/"
    },
    "id": "YG74yzz8FPQ6",
    "outputId": "3ed4a1d2-943c-40f4-c747-d316e215bb86"
   },
   "outputs": [
    {
     "data": {
      "text/plain": [
       "array([[843,   0,  12,  24,   4,   1, 109,   0,   7,   0],\n",
       "       [  2, 966,   0,  21,   4,   0,   5,   0,   2,   0],\n",
       "       [ 13,   0, 790,  11, 112,   0,  71,   0,   3,   0],\n",
       "       [ 22,   5,   9, 900,  26,   0,  34,   0,   4,   0],\n",
       "       [  0,   0, 107,  42, 788,   0,  60,   0,   3,   0],\n",
       "       [  0,   0,   0,   0,   0, 964,   0,  25,   1,  10],\n",
       "       [115,   1,  90,  29,  79,   0, 668,   0,  18,   0],\n",
       "       [  0,   0,   0,   0,   0,  21,   0, 957,   0,  22],\n",
       "       [  4,   0,   3,   4,   5,   1,   3,   4, 976,   0],\n",
       "       [  0,   0,   0,   0,   0,  13,   1,  45,   0, 941]])"
      ]
     },
     "execution_count": 29,
     "metadata": {},
     "output_type": "execute_result"
    }
   ],
   "source": [
    "cm = confusion_matrix(y_test,classes)\n",
    "cm"
   ]
  },
  {
   "cell_type": "code",
   "execution_count": 30,
   "metadata": {
    "colab": {
     "base_uri": "https://localhost:8080/"
    },
    "id": "vEmGLCXeFXln",
    "outputId": "2fbcd905-c0b9-4724-bdc9-1c70875bbf9e"
   },
   "outputs": [
    {
     "data": {
      "text/plain": [
       "0.8793"
      ]
     },
     "execution_count": 30,
     "metadata": {},
     "output_type": "execute_result"
    }
   ],
   "source": [
    "ac = accuracy_score(y_test,classes)\n",
    "ac"
   ]
  },
  {
   "cell_type": "markdown",
   "metadata": {},
   "source": [
    "# saving and loading the model"
   ]
  },
  {
   "cell_type": "code",
   "execution_count": 31,
   "metadata": {
    "id": "iSKeESNPFnXo"
   },
   "outputs": [],
   "source": [
    "import os.path\n",
    "if os.path.isfile('models/mnist ann.h5') is False :\n",
    "  model.save('models/mnist ann.h5')"
   ]
  },
  {
   "cell_type": "code",
   "execution_count": 32,
   "metadata": {
    "id": "9qlOOs-9454p"
   },
   "outputs": [],
   "source": [
    "# from keras.api._v2.keras.models import load_model\n",
    "from tensorflow.keras.models import load_model\n",
    "new_model = load_model('models/mnist ann.h5')"
   ]
  },
  {
   "cell_type": "code",
   "execution_count": 33,
   "metadata": {
    "colab": {
     "base_uri": "https://localhost:8080/"
    },
    "id": "u-fUYYNN5POU",
    "outputId": "a0f3d89a-a8cc-4718-8341-2e59b9313ef5"
   },
   "outputs": [
    {
     "name": "stdout",
     "output_type": "stream",
     "text": [
      "Model: \"sequential\"\n",
      "_________________________________________________________________\n",
      " Layer (type)                Output Shape              Param #   \n",
      "=================================================================\n",
      " dense (Dense)               (None, 128)               100480    \n",
      "                                                                 \n",
      " dropout (Dropout)           (None, 128)               0         \n",
      "                                                                 \n",
      " dense_1 (Dense)             (None, 10)                1290      \n",
      "                                                                 \n",
      "=================================================================\n",
      "Total params: 101,770\n",
      "Trainable params: 101,770\n",
      "Non-trainable params: 0\n",
      "_________________________________________________________________\n"
     ]
    }
   ],
   "source": [
    "new_model.summary()"
   ]
  },
  {
   "cell_type": "code",
   "execution_count": 34,
   "metadata": {
    "colab": {
     "base_uri": "https://localhost:8080/"
    },
    "id": "xGhqSy6X5hmE",
    "outputId": "2200960f-c5d6-4e71-b97a-ecf3ab7412c1"
   },
   "outputs": [
    {
     "data": {
      "text/plain": [
       "[array([[-0.01377722,  0.07240672, -0.06919706, ...,  0.12972862,\n",
       "         -0.05250598,  0.0339182 ],\n",
       "        [-0.05184999,  0.00265697, -0.00559221, ..., -0.01625856,\n",
       "          0.10368701, -0.15921845],\n",
       "        [-0.18460038, -0.07837061,  0.08739042, ..., -0.26589623,\n",
       "          0.53045094, -0.12295637],\n",
       "        ...,\n",
       "        [ 0.19415717,  0.05324152, -0.05674918, ..., -0.08930565,\n",
       "         -0.0574213 , -0.03475932],\n",
       "        [-0.05374454, -0.03651961,  0.02871707, ..., -0.00110617,\n",
       "          0.14008473, -0.163263  ],\n",
       "        [-0.05835297, -0.01250819,  0.03090048, ...,  0.13434671,\n",
       "          0.49319825,  0.04223895]], dtype=float32),\n",
       " array([ 9.5635027e-01, -2.7103478e-02, -4.2146526e-02,  4.8433900e-01,\n",
       "         4.0666646e-01,  4.1480345e-01, -4.1615033e-01, -5.9755951e-01,\n",
       "         2.6757264e-01,  5.2242595e-01,  5.2395463e-01,  2.6493248e-01,\n",
       "        -2.9157219e-02,  2.7588564e-01,  6.0184532e-01, -1.5984841e-01,\n",
       "         5.9143049e-01, -1.2733366e-02, -2.6570845e-02,  1.5794616e-02,\n",
       "         4.3704599e-01,  6.6144103e-01,  3.9870936e-01,  1.0510524e-01,\n",
       "        -2.0411622e-02,  7.4625796e-01,  1.3241655e-01,  6.7095146e-02,\n",
       "         5.5069089e-01,  4.2893526e-01,  3.0890775e-01,  1.8754186e-01,\n",
       "        -4.2379878e-02,  3.1368992e-01, -5.2427057e-02,  3.3757204e-01,\n",
       "         8.1905156e-01,  2.1483204e-01, -1.5840879e-01, -1.8342309e-02,\n",
       "         4.3034816e-01, -4.1273907e-01,  1.7791788e-01,  9.4535977e-01,\n",
       "         4.8603606e-01,  3.2094309e-01, -1.3253943e-02,  5.5204493e-01,\n",
       "         3.6343724e-01,  2.3489939e-01,  1.5182735e-01,  2.0938590e-01,\n",
       "        -3.5271555e-01, -5.7440627e-01,  3.8210112e-01,  6.1104935e-01,\n",
       "         2.9682404e-01,  6.1810112e-01,  2.3468025e-01, -1.0339720e-02,\n",
       "         3.0484837e-01,  3.8547993e-01,  3.5906971e-01,  2.2528361e-01,\n",
       "         6.5053612e-02,  3.7547559e-01,  5.8229774e-01,  4.2864433e-01,\n",
       "        -1.4695364e-01, -1.3655876e-02, -3.3270206e-02,  3.1075707e-01,\n",
       "         6.7129739e-02,  1.9991294e-01,  4.9816945e-01,  1.8488327e-02,\n",
       "        -2.8225669e-01,  8.7474085e-02, -3.3484399e-01,  7.5541055e-01,\n",
       "         1.5424529e-01, -4.3593604e-02, -5.8963108e-01, -4.2056270e-02,\n",
       "        -1.3226130e-02, -5.8299191e-03, -2.1736303e-02, -5.8272809e-01,\n",
       "        -1.5221955e-01,  7.5067520e-02, -3.9992776e-02,  5.0268912e-01,\n",
       "         6.0253304e-01, -8.4537458e-01, -1.0427547e-01,  1.9792800e-01,\n",
       "         7.0348093e-03,  2.2138919e-01, -4.0703812e-01, -7.0493251e-02,\n",
       "         5.1439744e-01, -3.5920274e-02,  3.8520965e-01,  6.5856010e-02,\n",
       "         4.9542958e-01, -3.3010378e-01,  4.9330298e-02, -1.6512748e-02,\n",
       "         6.0554111e-01,  2.3706439e-01, -1.3564857e-02, -5.6229448e-01,\n",
       "        -8.4135113e-03,  5.7001394e-01,  2.9675872e-04,  7.8331297e-03,\n",
       "         1.9684082e-01, -4.3866670e-01,  6.1557150e-01,  1.4376332e-01,\n",
       "        -2.6938921e-01, -6.7511722e-02,  5.0655425e-01, -2.9351422e-01,\n",
       "        -1.8787909e-02,  9.9895127e-02, -8.6469710e-02,  2.3621269e-02],\n",
       "       dtype=float32),\n",
       " array([[-0.4822978 , -0.90604556, -0.88136685, ...,  0.3083762 ,\n",
       "         -0.48836693, -0.6623605 ],\n",
       "        [-0.20600714, -0.11503345,  0.14649233, ...,  0.06724253,\n",
       "         -0.03320213,  0.06757151],\n",
       "        [-0.82240427,  0.48004174, -1.161951  , ..., -1.0696371 ,\n",
       "          0.21165042, -0.6377039 ],\n",
       "        ...,\n",
       "        [-0.14725463, -0.11169879,  0.0388413 , ..., -0.5348013 ,\n",
       "          0.20998724, -0.4863842 ],\n",
       "        [-0.00295229, -0.35174063, -0.00549344, ..., -0.8405074 ,\n",
       "         -0.00985563, -0.9057726 ],\n",
       "        [-0.2350924 , -0.30253625, -0.10623113, ..., -0.33092207,\n",
       "          0.39365923, -0.5004654 ]], dtype=float32),\n",
       " array([ 0.04214637, -0.5708629 ,  0.2283752 ,  0.42092916, -0.22490193,\n",
       "        -0.28249896,  0.24119025,  0.2051958 , -0.26320267, -0.65502197],\n",
       "       dtype=float32)]"
      ]
     },
     "execution_count": 34,
     "metadata": {},
     "output_type": "execute_result"
    }
   ],
   "source": [
    "new_model.get_weights()"
   ]
  },
  {
   "cell_type": "code",
   "execution_count": 35,
   "metadata": {
    "colab": {
     "base_uri": "https://localhost:8080/"
    },
    "id": "_e_-UuEF5mLq",
    "outputId": "5e8e585e-1a35-4dd6-cc30-d50142663976"
   },
   "outputs": [
    {
     "data": {
      "text/plain": [
       "<keras.optimizers.optimizer_experimental.adam.Adam at 0x7f450ec80b20>"
      ]
     },
     "execution_count": 35,
     "metadata": {},
     "output_type": "execute_result"
    }
   ],
   "source": [
    "new_model.optimizer"
   ]
  },
  {
   "cell_type": "code",
   "execution_count": 36,
   "metadata": {
    "id": "jVjGt9H250ev"
   },
   "outputs": [],
   "source": [
    "json_string = model.to_json()"
   ]
  },
  {
   "cell_type": "code",
   "execution_count": 37,
   "metadata": {
    "colab": {
     "base_uri": "https://localhost:8080/",
     "height": 192
    },
    "id": "CcfZL-rk59tZ",
    "outputId": "b7e777d4-5d16-47fa-d47b-26ded3058bd3"
   },
   "outputs": [
    {
     "data": {
      "text/plain": [
       "'{\"class_name\": \"Sequential\", \"config\": {\"name\": \"sequential\", \"layers\": [{\"class_name\": \"InputLayer\", \"config\": {\"batch_input_shape\": [null, 784], \"dtype\": \"float32\", \"sparse\": false, \"ragged\": false, \"name\": \"dense_input\"}}, {\"class_name\": \"Dense\", \"config\": {\"name\": \"dense\", \"trainable\": true, \"dtype\": \"float32\", \"batch_input_shape\": [null, 784], \"units\": 128, \"activation\": \"relu\", \"use_bias\": true, \"kernel_initializer\": {\"class_name\": \"GlorotUniform\", \"config\": {\"seed\": null}}, \"bias_initializer\": {\"class_name\": \"Zeros\", \"config\": {}}, \"kernel_regularizer\": null, \"bias_regularizer\": null, \"activity_regularizer\": null, \"kernel_constraint\": null, \"bias_constraint\": null}}, {\"class_name\": \"Dropout\", \"config\": {\"name\": \"dropout\", \"trainable\": true, \"dtype\": \"float32\", \"rate\": 0.4, \"noise_shape\": null, \"seed\": null}}, {\"class_name\": \"Dense\", \"config\": {\"name\": \"dense_1\", \"trainable\": true, \"dtype\": \"float32\", \"units\": 10, \"activation\": \"softmax\", \"use_bias\": true, \"kernel_initializer\": {\"class_name\": \"GlorotUniform\", \"config\": {\"seed\": null}}, \"bias_initializer\": {\"class_name\": \"Zeros\", \"config\": {}}, \"kernel_regularizer\": null, \"bias_regularizer\": null, \"activity_regularizer\": null, \"kernel_constraint\": null, \"bias_constraint\": null}}]}, \"keras_version\": \"2.11.0\", \"backend\": \"tensorflow\"}'"
      ]
     },
     "execution_count": 37,
     "metadata": {},
     "output_type": "execute_result"
    }
   ],
   "source": [
    "json_string"
   ]
  },
  {
   "cell_type": "code",
   "execution_count": 38,
   "metadata": {
    "id": "DVxqA2yw5-1j"
   },
   "outputs": [],
   "source": [
    "from tensorflow.keras.models import model_from_json\n",
    "model_architecture = model_from_json(json_string)"
   ]
  },
  {
   "cell_type": "code",
   "execution_count": 39,
   "metadata": {
    "colab": {
     "base_uri": "https://localhost:8080/"
    },
    "id": "oVYzKojP6qhp",
    "outputId": "1c02decb-85b8-4f46-ebec-62d157d10c09"
   },
   "outputs": [
    {
     "name": "stdout",
     "output_type": "stream",
     "text": [
      "Model: \"sequential\"\n",
      "_________________________________________________________________\n",
      " Layer (type)                Output Shape              Param #   \n",
      "=================================================================\n",
      " dense (Dense)               (None, 128)               100480    \n",
      "                                                                 \n",
      " dropout (Dropout)           (None, 128)               0         \n",
      "                                                                 \n",
      " dense_1 (Dense)             (None, 10)                1290      \n",
      "                                                                 \n",
      "=================================================================\n",
      "Total params: 101,770\n",
      "Trainable params: 101,770\n",
      "Non-trainable params: 0\n",
      "_________________________________________________________________\n"
     ]
    }
   ],
   "source": [
    "model_architecture.summary()"
   ]
  },
  {
   "cell_type": "code",
   "execution_count": 40,
   "metadata": {
    "id": "ydXT2bY56tHF"
   },
   "outputs": [],
   "source": [
    "import os.path\n",
    "if os.path.isfile('models/mnist ann_weights.h5') is False :\n",
    "  model.save('models/mnist ann_weights.h5')"
   ]
  },
  {
   "cell_type": "code",
   "execution_count": 41,
   "metadata": {
    "id": "QeE478aj8JTB"
   },
   "outputs": [],
   "source": [
    "#create the same model architecture and use load_weights"
   ]
  },
  {
   "cell_type": "code",
   "execution_count": null,
   "metadata": {
    "id": "gpE0EkRq8W0L"
   },
   "outputs": [],
   "source": []
  }
 ],
 "metadata": {
  "colab": {
   "provenance": []
  },
  "kernelspec": {
   "display_name": "Python 3 (ipykernel)",
   "language": "python",
   "name": "python3"
  },
  "language_info": {
   "codemirror_mode": {
    "name": "ipython",
    "version": 3
   },
   "file_extension": ".py",
   "mimetype": "text/x-python",
   "name": "python",
   "nbconvert_exporter": "python",
   "pygments_lexer": "ipython3",
   "version": "3.10.6"
  }
 },
 "nbformat": 4,
 "nbformat_minor": 1
}
