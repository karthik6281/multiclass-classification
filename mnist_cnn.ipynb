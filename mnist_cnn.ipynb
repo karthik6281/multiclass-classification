{
 "cells": [
  {
   "cell_type": "code",
   "execution_count": 1,
   "metadata": {
    "id": "al9EdkYMC84v"
   },
   "outputs": [
    {
     "name": "stderr",
     "output_type": "stream",
     "text": [
      "2023-03-12 10:46:35.112928: I tensorflow/core/platform/cpu_feature_guard.cc:193] This TensorFlow binary is optimized with oneAPI Deep Neural Network Library (oneDNN) to use the following CPU instructions in performance-critical operations:  AVX2 FMA\n",
      "To enable them in other operations, rebuild TensorFlow with the appropriate compiler flags.\n",
      "2023-03-12 10:46:35.287289: W tensorflow/compiler/xla/stream_executor/platform/default/dso_loader.cc:64] Could not load dynamic library 'libcudart.so.11.0'; dlerror: libcudart.so.11.0: cannot open shared object file: No such file or directory\n",
      "2023-03-12 10:46:35.287314: I tensorflow/compiler/xla/stream_executor/cuda/cudart_stub.cc:29] Ignore above cudart dlerror if you do not have a GPU set up on your machine.\n",
      "2023-03-12 10:46:35.854984: W tensorflow/compiler/xla/stream_executor/platform/default/dso_loader.cc:64] Could not load dynamic library 'libnvinfer.so.7'; dlerror: libnvinfer.so.7: cannot open shared object file: No such file or directory\n",
      "2023-03-12 10:46:35.855024: W tensorflow/compiler/xla/stream_executor/platform/default/dso_loader.cc:64] Could not load dynamic library 'libnvinfer_plugin.so.7'; dlerror: libnvinfer_plugin.so.7: cannot open shared object file: No such file or directory\n",
      "2023-03-12 10:46:35.855029: W tensorflow/compiler/tf2tensorrt/utils/py_utils.cc:38] TF-TRT Warning: Cannot dlopen some TensorRT libraries. If you would like to use Nvidia GPU with TensorRT, please make sure the missing libraries mentioned above are installed properly.\n"
     ]
    }
   ],
   "source": [
    "import tensorflow as tf\n",
    "import numpy as np\n",
    "import pandas as pd\n",
    "import matplotlib.pyplot as plt"
   ]
  },
  {
   "cell_type": "code",
   "execution_count": 2,
   "metadata": {
    "id": "MDd2iGnHDCMK"
   },
   "outputs": [],
   "source": [
    "from tensorflow.keras.datasets import mnist"
   ]
  },
  {
   "cell_type": "code",
   "execution_count": 3,
   "metadata": {
    "id": "9fu4p-4gD3Qs"
   },
   "outputs": [
    {
     "name": "stdout",
     "output_type": "stream",
     "text": [
      "Downloading data from https://storage.googleapis.com/tensorflow/tf-keras-datasets/mnist.npz\n",
      "11490434/11490434 [==============================] - 5s 0us/step\n"
     ]
    }
   ],
   "source": [
    "(x_train,y_train),(x_test,y_test) = mnist.load_data()"
   ]
  },
  {
   "cell_type": "code",
   "execution_count": 4,
   "metadata": {
    "colab": {
     "base_uri": "https://localhost:8080/"
    },
    "id": "e7v_Owb3EKIB",
    "outputId": "cc4301bb-53c3-4998-be2c-b7b5de76b2bf"
   },
   "outputs": [
    {
     "data": {
      "text/plain": [
       "((60000, 28, 28), (60000,))"
      ]
     },
     "execution_count": 4,
     "metadata": {},
     "output_type": "execute_result"
    }
   ],
   "source": [
    "x_train.shape,y_train.shape"
   ]
  },
  {
   "cell_type": "code",
   "execution_count": 5,
   "metadata": {
    "id": "smCQe7UYEYTm"
   },
   "outputs": [],
   "source": [
    "#normalization\n",
    "x_train = x_train/255\n",
    "x_test = x_test/255"
   ]
  },
  {
   "cell_type": "code",
   "execution_count": 6,
   "metadata": {
    "id": "P7m92_olFdL8"
   },
   "outputs": [],
   "source": [
    "x_train = x_train.reshape(60000, 28, 28,1)\n",
    "x_test = x_test.reshape(10000, 28, 28,1)"
   ]
  },
  {
   "cell_type": "code",
   "execution_count": 7,
   "metadata": {
    "id": "s0aZIru8GgED"
   },
   "outputs": [],
   "source": [
    "from tensorflow import keras\n",
    "from keras.models import Sequential\n",
    "from keras.layers import Dense,Conv2D,MaxPool2D,Flatten,Activation\n",
    "from keras.optimizers import Adam\n",
    "from keras.metrics import categorical_crossentropy"
   ]
  },
  {
   "cell_type": "code",
   "execution_count": 8,
   "metadata": {
    "id": "lmtrKzGnG6cN"
   },
   "outputs": [
    {
     "name": "stderr",
     "output_type": "stream",
     "text": [
      "2023-03-12 10:46:43.100935: W tensorflow/compiler/xla/stream_executor/platform/default/dso_loader.cc:64] Could not load dynamic library 'libcuda.so.1'; dlerror: libcuda.so.1: cannot open shared object file: No such file or directory\n",
      "2023-03-12 10:46:43.100965: W tensorflow/compiler/xla/stream_executor/cuda/cuda_driver.cc:265] failed call to cuInit: UNKNOWN ERROR (303)\n",
      "2023-03-12 10:46:43.100986: I tensorflow/compiler/xla/stream_executor/cuda/cuda_diagnostics.cc:156] kernel driver does not appear to be running on this host (karthik-Dell-G15-5515): /proc/driver/nvidia/version does not exist\n",
      "2023-03-12 10:46:43.101255: I tensorflow/core/platform/cpu_feature_guard.cc:193] This TensorFlow binary is optimized with oneAPI Deep Neural Network Library (oneDNN) to use the following CPU instructions in performance-critical operations:  AVX2 FMA\n",
      "To enable them in other operations, rebuild TensorFlow with the appropriate compiler flags.\n"
     ]
    }
   ],
   "source": [
    "model = Sequential([\n",
    "    Conv2D(filters =12 , kernel_size= 3 ,activation = 'relu' , padding = 'same',input_shape = (28,28,1)),\n",
    "    MaxPool2D(pool_size=(2,2),strides = 2),\n",
    "    Conv2D(filters =6 , kernel_size= 3 ,activation = 'relu' , padding = 'same'),\n",
    "    MaxPool2D(pool_size = (2,2),strides=2),\n",
    "    Flatten(),\n",
    "    Dense(units = 10 , activation = 'softmax')\n",
    "])"
   ]
  },
  {
   "cell_type": "code",
   "execution_count": 9,
   "metadata": {
    "colab": {
     "base_uri": "https://localhost:8080/"
    },
    "id": "CVwYCep4Is2b",
    "outputId": "64b31fae-a918-4662-b93c-b624a331c949"
   },
   "outputs": [
    {
     "name": "stdout",
     "output_type": "stream",
     "text": [
      "Model: \"sequential\"\n",
      "_________________________________________________________________\n",
      " Layer (type)                Output Shape              Param #   \n",
      "=================================================================\n",
      " conv2d (Conv2D)             (None, 28, 28, 12)        120       \n",
      "                                                                 \n",
      " max_pooling2d (MaxPooling2D  (None, 14, 14, 12)       0         \n",
      " )                                                               \n",
      "                                                                 \n",
      " conv2d_1 (Conv2D)           (None, 14, 14, 6)         654       \n",
      "                                                                 \n",
      " max_pooling2d_1 (MaxPooling  (None, 7, 7, 6)          0         \n",
      " 2D)                                                             \n",
      "                                                                 \n",
      " flatten (Flatten)           (None, 294)               0         \n",
      "                                                                 \n",
      " dense (Dense)               (None, 10)                2950      \n",
      "                                                                 \n",
      "=================================================================\n",
      "Total params: 3,724\n",
      "Trainable params: 3,724\n",
      "Non-trainable params: 0\n",
      "_________________________________________________________________\n"
     ]
    }
   ],
   "source": [
    "model.summary()"
   ]
  },
  {
   "cell_type": "code",
   "execution_count": 10,
   "metadata": {
    "id": "9fUt6MnCJaVF"
   },
   "outputs": [],
   "source": [
    "model.compile(optimizer=Adam(learning_rate = 0.001),loss='sparse_categorical_crossentropy',metrics = ['sparse_categorical_accuracy'])"
   ]
  },
  {
   "cell_type": "code",
   "execution_count": 11,
   "metadata": {
    "colab": {
     "base_uri": "https://localhost:8080/"
    },
    "id": "ckEcDORJIwdD",
    "outputId": "a6f6c9d8-d153-4bd9-9476-8973804cc6eb"
   },
   "outputs": [
    {
     "name": "stdout",
     "output_type": "stream",
     "text": [
      "Epoch 1/10\n",
      "1688/1688 [==============================] - 8s 4ms/step - loss: 0.3555 - sparse_categorical_accuracy: 0.8918 - val_loss: 0.1248 - val_sparse_categorical_accuracy: 0.9655\n",
      "Epoch 2/10\n",
      "1688/1688 [==============================] - 7s 4ms/step - loss: 0.1258 - sparse_categorical_accuracy: 0.9616 - val_loss: 0.0849 - val_sparse_categorical_accuracy: 0.9785\n",
      "Epoch 3/10\n",
      "1688/1688 [==============================] - 7s 4ms/step - loss: 0.0917 - sparse_categorical_accuracy: 0.9718 - val_loss: 0.0753 - val_sparse_categorical_accuracy: 0.9792\n",
      "Epoch 4/10\n",
      "1688/1688 [==============================] - 7s 4ms/step - loss: 0.0764 - sparse_categorical_accuracy: 0.9770 - val_loss: 0.0613 - val_sparse_categorical_accuracy: 0.9823\n",
      "Epoch 5/10\n",
      "1688/1688 [==============================] - 7s 4ms/step - loss: 0.0671 - sparse_categorical_accuracy: 0.9787 - val_loss: 0.0613 - val_sparse_categorical_accuracy: 0.9843\n",
      "Epoch 6/10\n",
      "1688/1688 [==============================] - 7s 4ms/step - loss: 0.0619 - sparse_categorical_accuracy: 0.9802 - val_loss: 0.0563 - val_sparse_categorical_accuracy: 0.9862\n",
      "Epoch 7/10\n",
      "1688/1688 [==============================] - 7s 4ms/step - loss: 0.0558 - sparse_categorical_accuracy: 0.9831 - val_loss: 0.0511 - val_sparse_categorical_accuracy: 0.9860\n",
      "Epoch 8/10\n",
      "1688/1688 [==============================] - 7s 4ms/step - loss: 0.0527 - sparse_categorical_accuracy: 0.9834 - val_loss: 0.0507 - val_sparse_categorical_accuracy: 0.9865\n",
      "Epoch 9/10\n",
      "1688/1688 [==============================] - 8s 5ms/step - loss: 0.0496 - sparse_categorical_accuracy: 0.9839 - val_loss: 0.0500 - val_sparse_categorical_accuracy: 0.9868\n",
      "Epoch 10/10\n",
      "1688/1688 [==============================] - 8s 5ms/step - loss: 0.0475 - sparse_categorical_accuracy: 0.9849 - val_loss: 0.0494 - val_sparse_categorical_accuracy: 0.9868\n"
     ]
    },
    {
     "data": {
      "text/plain": [
       "<keras.callbacks.History at 0x7f17e91d9210>"
      ]
     },
     "execution_count": 11,
     "metadata": {},
     "output_type": "execute_result"
    }
   ],
   "source": [
    "model.fit(x_train,y_train , validation_split = 0.1 , epochs = 10 , shuffle = True)"
   ]
  },
  {
   "cell_type": "code",
   "execution_count": 12,
   "metadata": {
    "colab": {
     "base_uri": "https://localhost:8080/"
    },
    "id": "O52i4Rr4JOMF",
    "outputId": "87488174-4085-4141-c3d2-ef9e972b3106"
   },
   "outputs": [
    {
     "name": "stdout",
     "output_type": "stream",
     "text": [
      "313/313 [==============================] - 1s 2ms/step - loss: 0.0490 - sparse_categorical_accuracy: 0.9839\n"
     ]
    }
   ],
   "source": [
    "test_loss,test_accuaracy = model.evaluate(x_test,y_test)"
   ]
  },
  {
   "cell_type": "code",
   "execution_count": 13,
   "metadata": {
    "colab": {
     "base_uri": "https://localhost:8080/"
    },
    "id": "lBhvexhzL6cc",
    "outputId": "d5324730-fe37-4e17-9758-533fe71e2d4a"
   },
   "outputs": [
    {
     "name": "stdout",
     "output_type": "stream",
     "text": [
      "313/313 [==============================] - 1s 2ms/step\n"
     ]
    }
   ],
   "source": [
    "y_pred = model.predict(x_test)\n",
    "classes = np.argmax(y_pred , axis = 1)"
   ]
  },
  {
   "cell_type": "code",
   "execution_count": 14,
   "metadata": {
    "colab": {
     "base_uri": "https://localhost:8080/"
    },
    "id": "tGDMztAvMECb",
    "outputId": "9d3fe545-55e3-4c2f-e16c-5a167999e3f4"
   },
   "outputs": [
    {
     "data": {
      "text/plain": [
       "array([7, 2, 1, ..., 4, 5, 6])"
      ]
     },
     "execution_count": 14,
     "metadata": {},
     "output_type": "execute_result"
    }
   ],
   "source": [
    "classes"
   ]
  },
  {
   "cell_type": "code",
   "execution_count": 15,
   "metadata": {
    "id": "4M05YoGVMLP1"
   },
   "outputs": [],
   "source": [
    "from sklearn.metrics import confusion_matrix,accuracy_score"
   ]
  },
  {
   "cell_type": "code",
   "execution_count": 16,
   "metadata": {
    "colab": {
     "base_uri": "https://localhost:8080/"
    },
    "id": "_15JEy7JMSTI",
    "outputId": "eed3dd15-aa53-44d8-a803-ff93eae40f5a"
   },
   "outputs": [
    {
     "data": {
      "text/plain": [
       "array([[ 973,    1,    0,    1,    0,    1,    1,    1,    2,    0],\n",
       "       [   0, 1131,    2,    1,    1,    0,    0,    0,    0,    0],\n",
       "       [   4,    3, 1006,    1,    1,    0,    0,    6,   10,    1],\n",
       "       [   1,    0,    3, 1000,    0,    2,    0,    0,    3,    1],\n",
       "       [   0,    0,    0,    0,  969,    0,    0,    3,    3,    7],\n",
       "       [   2,    0,    1,    7,    0,  876,    2,    1,    3,    0],\n",
       "       [  10,    4,    1,    0,    2,    5,  933,    0,    3,    0],\n",
       "       [   1,    3,    8,    2,    0,    1,    0, 1010,    1,    2],\n",
       "       [   4,    0,    2,    2,    1,    1,    1,    1,  958,    4],\n",
       "       [   1,    5,    1,    1,    2,    4,    0,    5,    7,  983]])"
      ]
     },
     "execution_count": 16,
     "metadata": {},
     "output_type": "execute_result"
    }
   ],
   "source": [
    "cm = confusion_matrix(y_test,classes)\n",
    "cm"
   ]
  },
  {
   "cell_type": "code",
   "execution_count": 17,
   "metadata": {
    "colab": {
     "base_uri": "https://localhost:8080/"
    },
    "id": "XJaLk7zyMaTf",
    "outputId": "7dc05cce-4d52-4e01-8f2b-6789cf6a0f62"
   },
   "outputs": [
    {
     "data": {
      "text/plain": [
       "0.9839"
      ]
     },
     "execution_count": 17,
     "metadata": {},
     "output_type": "execute_result"
    }
   ],
   "source": [
    "accuracy = accuracy_score(classes,y_test)\n",
    "accuracy"
   ]
  },
  {
   "cell_type": "code",
   "execution_count": null,
   "metadata": {
    "id": "hUK2lWYkMpGK"
   },
   "outputs": [],
   "source": []
  }
 ],
 "metadata": {
  "colab": {
   "provenance": []
  },
  "kernelspec": {
   "display_name": "Python 3 (ipykernel)",
   "language": "python",
   "name": "python3"
  },
  "language_info": {
   "codemirror_mode": {
    "name": "ipython",
    "version": 3
   },
   "file_extension": ".py",
   "mimetype": "text/x-python",
   "name": "python",
   "nbconvert_exporter": "python",
   "pygments_lexer": "ipython3",
   "version": "3.10.6"
  }
 },
 "nbformat": 4,
 "nbformat_minor": 1
}
